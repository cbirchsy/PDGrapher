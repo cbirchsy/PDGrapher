{
 "cells": [
  {
   "cell_type": "code",
   "execution_count": 1,
   "id": "5ba58d96",
   "metadata": {},
   "outputs": [
    {
     "name": "stderr",
     "output_type": "stream",
     "text": [
      "<frozen importlib._bootstrap>:219: RuntimeWarning: scipy._lib.messagestream.MessageStream size changed, may indicate binary incompatibility. Expected 56 from C header, got 64 from PyObject\n"
     ]
    }
   ],
   "source": [
    "import torch\n",
    "import pandas as pd\n",
    "import h5py\n",
    "import os\n",
    "import matplotlib.pyplot as plt\n",
    "import seaborn as sns\n",
    "import os.path as osp\n",
    "import numpy as np\n",
    "from collections import Counter\n",
    "import matplotlib.pyplot as plt\n",
    "import math\n",
    "from random import sample\n",
    "\n",
    "\n",
    "import networkx as nx\n",
    "import csrgraph as cg\n",
    "import os\n",
    "import itertools\n",
    "import json\n",
    "import operator\n",
    "import swifter\n",
    "from tqdm import tqdm\n",
    "import time"
   ]
  },
  {
   "cell_type": "code",
   "execution_count": 2,
   "id": "1d98638f",
   "metadata": {},
   "outputs": [],
   "source": [
    "DATA_DIR = \"/n/data1/hms/dbmi/zitnik/lab/users/ish520/Causal-PPI/data/rep-learning-approach-3-all-genes\""
   ]
  },
  {
   "cell_type": "markdown",
   "id": "9feb7fbf",
   "metadata": {},
   "source": [
    "# Genetic Perturbations"
   ]
  },
  {
   "cell_type": "markdown",
   "id": "8c47104d",
   "metadata": {},
   "source": [
    "## Backward"
   ]
  },
  {
   "cell_type": "code",
   "execution_count": 12,
   "id": "5810150d",
   "metadata": {},
   "outputs": [],
   "source": [
    "data_back_MCF7 = torch.load (DATA_DIR+\"/processed/real_lognorm/data_backward_MCF7.pt\")\n",
    "data_back_A549 = torch.load (DATA_DIR+\"/processed/real_lognorm/data_backward_A549.pt\")\n",
    "\n",
    "edges_MCF7 = torch.load (DATA_DIR+\"/processed/real_lognorm/edge_index_MCF7.pt\")\n",
    "edges_A549 = torch.load (DATA_DIR+\"/processed/real_lognorm/edge_index_A549.pt\")"
   ]
  },
  {
   "cell_type": "code",
   "execution_count": 13,
   "id": "24c3649b",
   "metadata": {},
   "outputs": [],
   "source": [
    "MCF7_back_treated =[]\n",
    "MCF7_back_diseased = []\n",
    "for x in data_back_MCF7: \n",
    "    MCF7_back_treated.append(tuple(x.treated.tolist()))\n",
    "    MCF7_back_diseased.append(tuple(x.diseased.tolist()))"
   ]
  },
  {
   "cell_type": "code",
   "execution_count": 14,
   "id": "2d509028",
   "metadata": {},
   "outputs": [],
   "source": [
    "A549_back_treated =[]\n",
    "A549_back_diseased = []\n",
    "for x in data_back_A549: \n",
    "    A549_back_treated.append(tuple(x.treated.tolist()))\n",
    "    A549_back_diseased.append(tuple(x.diseased.tolist()))"
   ]
  },
  {
   "cell_type": "code",
   "execution_count": 46,
   "id": "3ccaf49f",
   "metadata": {},
   "outputs": [
    {
     "name": "stdout",
     "output_type": "stream",
     "text": [
      "Number of unique treated samples in MCF7 set: 18774\n",
      "Number of unique diseased samples in MCF7 set: 4852\n"
     ]
    }
   ],
   "source": [
    "num_unique_MCF7_backdiseased, num_unique_MCF7_backtreated= len(set(MCF7_back_diseased)), len(set(MCF7_back_treated))\n",
    "print(\"Number of unique treated samples in MCF7 set: {MCF7backtreated}\\nNumber of unique diseased samples in MCF7 set: {MCF7backdiseased}\".format(MCF7backtreated=num_unique_MCF7_backtreated, MCF7backdiseased=num_unique_MCF7_backdiseased))"
   ]
  },
  {
   "cell_type": "code",
   "execution_count": 48,
   "id": "aec57d23",
   "metadata": {},
   "outputs": [
    {
     "name": "stdout",
     "output_type": "stream",
     "text": [
      "Number of unique treated samples in A549 set: 24255\n",
      "Number of unique diseased samples in A549 set: 4327\n"
     ]
    }
   ],
   "source": [
    "num_unique_A549_backdiseased, num_unique_A549_backtreated= len(set(A549_back_diseased)), len(set(A549_back_treated))\n",
    "print(\"Number of unique treated samples in A549 set: {A549backtreated}\\nNumber of unique diseased samples in A549 set: {A549backdiseased}\".format(A549backtreated=num_unique_A549_backtreated, A549backdiseased=num_unique_A549_backdiseased))"
   ]
  },
  {
   "cell_type": "markdown",
   "id": "3570becb",
   "metadata": {},
   "source": [
    "## Forward"
   ]
  },
  {
   "cell_type": "code",
   "execution_count": 26,
   "id": "87439f50",
   "metadata": {},
   "outputs": [],
   "source": [
    "data_forward_MCF7 = torch.load (DATA_DIR+\"/processed/real_lognorm/data_forward_MCF7.pt\")\n",
    "data_forward_A549 = torch.load (DATA_DIR+\"/processed/real_lognorm/data_forward_A549.pt\")"
   ]
  },
  {
   "cell_type": "code",
   "execution_count": 27,
   "id": "62dee587",
   "metadata": {},
   "outputs": [],
   "source": [
    "MCF7_forward_healthy =[]\n",
    "MCF7_forward_diseased = []\n",
    "for x in data_forward_MCF7: \n",
    "    MCF7_forward_healthy.append(tuple(x.healthy.tolist()))\n",
    "    MCF7_forward_diseased.append(tuple(x.diseased.tolist()))"
   ]
  },
  {
   "cell_type": "code",
   "execution_count": 28,
   "id": "28b75def",
   "metadata": {},
   "outputs": [],
   "source": [
    "A549_forward_healthy =[]\n",
    "A549_forward_diseased = []\n",
    "for x in data_forward_A549: \n",
    "    A549_forward_healthy.append(tuple(x.healthy.tolist()))\n",
    "    A549_forward_diseased.append(tuple(x.diseased.tolist()))"
   ]
  },
  {
   "cell_type": "code",
   "execution_count": 57,
   "id": "fc09d131",
   "metadata": {},
   "outputs": [
    {
     "name": "stdout",
     "output_type": "stream",
     "text": [
      "Number of unique healthy samples in MCF7 set: 113\n",
      "Number of unique diseased samples in MCF7 set: 4852\n"
     ]
    }
   ],
   "source": [
    "num_unique_MCF7_forwarddiseased, num_unique_MCF7_forwardhealthy= len(set(MCF7_forward_diseased)), len(set(MCF7_forward_healthy))\n",
    "print(\"Number of unique healthy samples in MCF7 set: {MCF7forwardhealthy}\\nNumber of unique diseased samples in MCF7 set: {MCF7forwarddiseased}\".format(MCF7forwardhealthy=num_unique_MCF7_forwardhealthy, MCF7forwarddiseased=num_unique_MCF7_forwarddiseased))"
   ]
  },
  {
   "cell_type": "code",
   "execution_count": 60,
   "id": "f6aebaf9",
   "metadata": {},
   "outputs": [
    {
     "name": "stdout",
     "output_type": "stream",
     "text": [
      "Number of unique healthy samples in A549 set: 50\n",
      "Number of unique diseased samples in A549 set: 4327\n"
     ]
    }
   ],
   "source": [
    "num_unique_A549_forwarddiseased, num_unique_A549_forwardhealthy= len(set(A549_forward_diseased)), len(set(A549_forward_healthy))\n",
    "print(\"Number of unique healthy samples in A549 set: {A549forwardhealthy}\\nNumber of unique diseased samples in A549 set: {A549forwarddiseased}\".format(A549forwardhealthy=num_unique_A549_forwardhealthy, A549forwarddiseased=num_unique_A549_forwarddiseased))"
   ]
  },
  {
   "cell_type": "markdown",
   "id": "b8fda562",
   "metadata": {},
   "source": [
    "## Distributions"
   ]
  },
  {
   "cell_type": "code",
   "execution_count": 15,
   "id": "71585bf0",
   "metadata": {},
   "outputs": [],
   "source": [
    "lol_MCF7_back_treated =[]\n",
    "lol_MCF7_back_diseased = []\n",
    "for x in data_back_MCF7: \n",
    "    lol_MCF7_back_treated.append(x.treated.tolist())\n",
    "    lol_MCF7_back_diseased.append(x.diseased.tolist())"
   ]
  },
  {
   "cell_type": "code",
   "execution_count": 29,
   "id": "c7077763",
   "metadata": {},
   "outputs": [],
   "source": [
    "lol_MCF7_forward_healthy =[]\n",
    "for x in data_forward_MCF7: \n",
    "    lol_MCF7_forward_healthy.append(x.healthy.tolist())"
   ]
  },
  {
   "cell_type": "code",
   "execution_count": 16,
   "id": "a233d92c",
   "metadata": {},
   "outputs": [],
   "source": [
    "lol_A549_back_treated =[]\n",
    "lol_A549_back_diseased = []\n",
    "for x in data_back_A549: \n",
    "    lol_A549_back_treated.append(x.treated.tolist())\n",
    "    lol_A549_back_diseased.append(x.diseased.tolist())"
   ]
  },
  {
   "cell_type": "code",
   "execution_count": 30,
   "id": "f5682c45",
   "metadata": {},
   "outputs": [],
   "source": [
    "lol_A549_forward_healthy =[]\n",
    "for x in data_forward_A549: \n",
    "    lol_A549_forward_healthy.append(x.healthy.tolist())"
   ]
  },
  {
   "cell_type": "markdown",
   "id": "363a6c37",
   "metadata": {},
   "source": [
    "### MCF7 - Treated"
   ]
  },
  {
   "cell_type": "code",
   "execution_count": 18,
   "id": "4a0f4ace",
   "metadata": {},
   "outputs": [
    {
     "data": {
      "image/png": "[encoded data removed]",
      "text/plain": [
       "<Figure size 432x288 with 1 Axes>"
      ]
     },
     "metadata": {
      "needs_background": "light"
     },
     "output_type": "display_data"
    }
   ],
   "source": [
    "flat_list = [item for sublist in lol_MCF7_back_treated for item in sublist]\n",
    "plt.hist(flat_list)\n",
    "plt.xlabel('Expression Values')\n",
    "plt.ylabel('Gene Count')\n",
    "plt.show()"
   ]
  },
  {
   "cell_type": "markdown",
   "id": "f13e7be4",
   "metadata": {},
   "source": [
    "### MCF7 - Diseased"
   ]
  },
  {
   "cell_type": "code",
   "execution_count": 19,
   "id": "149530b1",
   "metadata": {},
   "outputs": [
    {
     "data": {
      "image/png": "[encoded data removed]",
      "text/plain": [
       "<Figure size 432x288 with 1 Axes>"
      ]
     },
     "metadata": {
      "needs_background": "light"
     },
     "output_type": "display_data"
    }
   ],
   "source": [
    "flat_list = [item for sublist in lol_MCF7_back_diseased for item in sublist]\n",
    "plt.hist(flat_list)\n",
    "plt.xlabel('Expression Values')\n",
    "plt.ylabel('Gene Count')\n",
    "plt.show()"
   ]
  },
  {
   "cell_type": "markdown",
   "id": "751d0922",
   "metadata": {},
   "source": [
    "### MCF7 - Healthy"
   ]
  },
  {
   "cell_type": "code",
   "execution_count": 31,
   "id": "ebbbe948",
   "metadata": {},
   "outputs": [
    {
     "data": {
      "image/png": "[encoded data removed]",
      "text/plain": [
       "<Figure size 432x288 with 1 Axes>"
      ]
     },
     "metadata": {
      "needs_background": "light"
     },
     "output_type": "display_data"
    }
   ],
   "source": [
    "flat_list = [item for sublist in lol_MCF7_forward_healthy for item in sublist]\n",
    "plt.hist(flat_list)\n",
    "plt.xlabel('Expression Values')\n",
    "plt.ylabel('Sample count')\n",
    "plt.show()"
   ]
  },
  {
   "cell_type": "markdown",
   "id": "b8d02701",
   "metadata": {},
   "source": [
    "### A549 - Treated"
   ]
  },
  {
   "cell_type": "code",
   "execution_count": 20,
   "id": "0db8a075",
   "metadata": {},
   "outputs": [
    {
     "data": {
      "image/png": "[encoded data removed]",
      "text/plain": [
       "<Figure size 432x288 with 1 Axes>"
      ]
     },
     "metadata": {
      "needs_background": "light"
     },
     "output_type": "display_data"
    }
   ],
   "source": [
    "flat_list = [item for sublist in lol_A549_back_treated for item in sublist]\n",
    "plt.hist(flat_list)\n",
    "plt.xlabel('Expression Values')\n",
    "plt.ylabel('Gene Count')\n",
    "plt.show()"
   ]
  },
  {
   "cell_type": "markdown",
   "id": "721546f4",
   "metadata": {},
   "source": [
    "### A549 - Diseased"
   ]
  },
  {
   "cell_type": "code",
   "execution_count": 21,
   "id": "c59eac42",
   "metadata": {},
   "outputs": [
    {
     "data": {
      "image/png": "[encoded data removed]",
      "text/plain": [
       "<Figure size 432x288 with 1 Axes>"
      ]
     },
     "metadata": {
      "needs_background": "light"
     },
     "output_type": "display_data"
    }
   ],
   "source": [
    "flat_list = [item for sublist in lol_A549_back_diseased for item in sublist]\n",
    "plt.hist(flat_list)\n",
    "plt.xlabel('Expression Values')\n",
    "plt.ylabel('Gene Count')\n",
    "plt.show()"
   ]
  },
  {
   "cell_type": "markdown",
   "id": "9e3a28d1",
   "metadata": {},
   "source": [
    "### A549 - Healthy"
   ]
  },
  {
   "cell_type": "code",
   "execution_count": 33,
   "id": "d3ce505b",
   "metadata": {},
   "outputs": [
    {
     "data": {
      "image/png": "[encoded data removed]",
      "text/plain": [
       "<Figure size 432x288 with 1 Axes>"
      ]
     },
     "metadata": {
      "needs_background": "light"
     },
     "output_type": "display_data"
    }
   ],
   "source": [
    "flat_list = [item for sublist in lol_A549_forward_healthy for item in sublist]\n",
    "plt.hist(flat_list)\n",
    "plt.xlabel('Expression Values')\n",
    "plt.ylabel('Gene Count')\n",
    "plt.show()"
   ]
  },
  {
   "cell_type": "markdown",
   "id": "6b308449",
   "metadata": {},
   "source": [
    "# Chemical Perturbations"
   ]
  },
  {
   "cell_type": "markdown",
   "id": "9f5e26f7",
   "metadata": {},
   "source": [
    "## Backward"
   ]
  },
  {
   "cell_type": "code",
   "execution_count": 3,
   "id": "4282aa3c",
   "metadata": {},
   "outputs": [],
   "source": [
    "data_back_MCF7 = torch.load (DATA_DIR+\"/processed/chemical/real_lognorm/data_backward_MCF7.pt\")\n",
    "data_back_A549 = torch.load (DATA_DIR+\"/processed/chemical/real_lognorm/data_backward_A549.pt\")\n",
    "\n",
    "edges_MCF7 = torch.load (DATA_DIR+\"/processed/chemical/real_lognorm/edge_index_MCF7.pt\")\n",
    "edges_A549 = torch.load (DATA_DIR+\"/processed/chemical/real_lognorm/edge_index_A549.pt\")"
   ]
  },
  {
   "cell_type": "code",
   "execution_count": null,
   "id": "b5088af4",
   "metadata": {
    "scrolled": false
   },
   "outputs": [],
   "source": [
    "MCF7_back_treated =[]\n",
    "MCF7_back_diseased = []\n",
    "for x in data_back_MCF7: \n",
    "    MCF7_back_treated.append(tuple(x.treated.tolist()))\n",
    "    MCF7_back_diseased.append(tuple(x.diseased.tolist()))"
   ]
  },
  {
   "cell_type": "code",
   "execution_count": 4,
   "id": "eb92a4ba",
   "metadata": {},
   "outputs": [],
   "source": [
    "A549_back_treated =[]\n",
    "A549_back_diseased = []\n",
    "for x in data_back_A549: \n",
    "    A549_back_treated.append(tuple(x.treated.tolist()))\n",
    "    A549_back_diseased.append(tuple(x.diseased.tolist()))"
   ]
  },
  {
   "cell_type": "code",
   "execution_count": 67,
   "id": "f9c79535",
   "metadata": {},
   "outputs": [
    {
     "name": "stdout",
     "output_type": "stream",
     "text": [
      "Number of unique treated samples in MCF7 set: 35421\n",
      "Number of unique diseased samples in MCF7 set: 7336\n"
     ]
    }
   ],
   "source": [
    "num_unique_MCF7_backdiseased, num_unique_MCF7_backtreated= len(set(MCF7_back_diseased)), len(set(MCF7_back_treated))\n",
    "print(\"Number of unique treated samples in MCF7 set: {MCF7backtreated}\\nNumber of unique diseased samples in MCF7 set: {MCF7backdiseased}\".format(MCF7backtreated=num_unique_MCF7_backtreated, MCF7backdiseased=num_unique_MCF7_backdiseased))"
   ]
  },
  {
   "cell_type": "code",
   "execution_count": 68,
   "id": "675a3709",
   "metadata": {},
   "outputs": [
    {
     "name": "stdout",
     "output_type": "stream",
     "text": [
      "Number of unique treated samples in A549 set: 23100\n",
      "Number of unique diseased samples in A549 set: 5261\n"
     ]
    }
   ],
   "source": [
    "num_unique_A549_backdiseased, num_unique_A549_backtreated= len(set(A549_back_diseased)), len(set(A549_back_treated))\n",
    "print(\"Number of unique treated samples in A549 set: {A549backtreated}\\nNumber of unique diseased samples in A549 set: {A549backdiseased}\".format(A549backtreated=num_unique_A549_backtreated, A549backdiseased=num_unique_A549_backdiseased))"
   ]
  },
  {
   "cell_type": "markdown",
   "id": "c3777a47",
   "metadata": {},
   "source": [
    "## Forward"
   ]
  },
  {
   "cell_type": "code",
   "execution_count": 8,
   "id": "a0ffdbf3",
   "metadata": {},
   "outputs": [],
   "source": [
    "data_forward_MCF7 = torch.load (DATA_DIR+\"/processed/chemical/real_lognorm/data_forward_MCF7.pt\")\n",
    "data_forward_A549 = torch.load (DATA_DIR+\"/processed/chemical/real_lognorm/data_forward_A549.pt\")"
   ]
  },
  {
   "cell_type": "code",
   "execution_count": 71,
   "id": "f1b185bb",
   "metadata": {},
   "outputs": [],
   "source": [
    "MCF7_forward_healthy =[]\n",
    "MCF7_forward_diseased = []\n",
    "for x in data_forward_MCF7: \n",
    "    MCF7_forward_healthy.append(tuple(x.healthy.tolist()))\n",
    "    MCF7_forward_diseased.append(tuple(x.diseased.tolist()))"
   ]
  },
  {
   "cell_type": "code",
   "execution_count": 9,
   "id": "c4d1bf39",
   "metadata": {},
   "outputs": [],
   "source": [
    "A549_forward_healthy =[]\n",
    "A549_forward_diseased = []\n",
    "for x in data_forward_A549: \n",
    "    A549_forward_healthy.append(tuple(x.healthy.tolist()))\n",
    "    A549_forward_diseased.append(tuple(x.diseased.tolist()))"
   ]
  },
  {
   "cell_type": "code",
   "execution_count": 73,
   "id": "cb9bc323",
   "metadata": {},
   "outputs": [
    {
     "name": "stdout",
     "output_type": "stream",
     "text": [
      "Number of unique healthy samples in MCF7 set: 2675\n",
      "Number of unique diseased samples in MCF7 set: 7336\n"
     ]
    }
   ],
   "source": [
    "num_unique_MCF7_forwarddiseased, num_unique_MCF7_forwardhealthy= len(set(MCF7_forward_diseased)), len(set(MCF7_forward_healthy))\n",
    "print(\"Number of unique healthy samples in MCF7 set: {MCF7forwardhealthy}\\nNumber of unique diseased samples in MCF7 set: {MCF7forwarddiseased}\".format(MCF7forwardhealthy=num_unique_MCF7_forwardhealthy, MCF7forwarddiseased=num_unique_MCF7_forwarddiseased))"
   ]
  },
  {
   "cell_type": "code",
   "execution_count": 74,
   "id": "259226ba",
   "metadata": {},
   "outputs": [
    {
     "name": "stdout",
     "output_type": "stream",
     "text": [
      "Number of unique healthy samples in A549 set: 50\n",
      "Number of unique diseased samples in A549 set: 5261\n"
     ]
    }
   ],
   "source": [
    "num_unique_A549_forwarddiseased, num_unique_A549_forwardhealthy= len(set(A549_forward_diseased)), len(set(A549_forward_healthy))\n",
    "print(\"Number of unique healthy samples in A549 set: {A549forwardhealthy}\\nNumber of unique diseased samples in A549 set: {A549forwarddiseased}\".format(A549forwardhealthy=num_unique_A549_forwardhealthy, A549forwarddiseased=num_unique_A549_forwarddiseased))"
   ]
  },
  {
   "cell_type": "markdown",
   "id": "6a128e30",
   "metadata": {},
   "source": [
    "## Distributions"
   ]
  },
  {
   "cell_type": "code",
   "execution_count": 4,
   "id": "7683895a",
   "metadata": {},
   "outputs": [],
   "source": [
    "lol_MCF7_back_treated =[]\n",
    "lol_MCF7_back_diseased = []\n",
    "for x in data_back_MCF7: \n",
    "    lol_MCF7_back_treated.append(x.treated.tolist())\n",
    "    lol_MCF7_back_diseased.append(x.diseased.tolist())"
   ]
  },
  {
   "cell_type": "code",
   "execution_count": 12,
   "id": "0b746bb3",
   "metadata": {},
   "outputs": [],
   "source": [
    "lol_MCF7_forward_healthy =[]\n",
    "for x in data_forward_MCF7: \n",
    "    lol_MCF7_forward_healthy.append(x.healthy.tolist())"
   ]
  },
  {
   "cell_type": "code",
   "execution_count": 5,
   "id": "688f3186",
   "metadata": {},
   "outputs": [],
   "source": [
    "lol_A549_back_treated =[]\n",
    "lol_A549_back_diseased = []\n",
    "for x in data_back_A549: \n",
    "    lol_A549_back_treated.append(x.treated.tolist())\n",
    "    lol_A549_back_diseased.append(x.diseased.tolist())"
   ]
  },
  {
   "cell_type": "code",
   "execution_count": 10,
   "id": "985db89d",
   "metadata": {},
   "outputs": [],
   "source": [
    "lol_A549_forward_healthy =[]\n",
    "for x in data_forward_A549: \n",
    "    lol_A549_forward_healthy.append(x.healthy.tolist())"
   ]
  },
  {
   "cell_type": "markdown",
   "id": "e7519f80",
   "metadata": {},
   "source": [
    "### MCF7-Treated"
   ]
  },
  {
   "cell_type": "code",
   "execution_count": 5,
   "id": "0c3dcf0a",
   "metadata": {},
   "outputs": [
    {
     "data": {
      "image/png": "[encoded data removed]",
      "text/plain": [
       "<Figure size 432x288 with 1 Axes>"
      ]
     },
     "metadata": {
      "needs_background": "light"
     },
     "output_type": "display_data"
    }
   ],
   "source": [
    "flat_list = [item for sublist in lol_MCF7_back_treated for item in sublist]\n",
    "plt.hist(flat_list)\n",
    "plt.xlabel('Expression Values')\n",
    "plt.ylabel('Gene Count')\n",
    "plt.show()"
   ]
  },
  {
   "cell_type": "markdown",
   "id": "f3f9b850",
   "metadata": {},
   "source": [
    "### MCF7-Diseased"
   ]
  },
  {
   "cell_type": "code",
   "execution_count": 6,
   "id": "bb33d2d4",
   "metadata": {},
   "outputs": [
    {
     "data": {
      "image/png": "[encoded data removed]",
      "text/plain": [
       "<Figure size 432x288 with 1 Axes>"
      ]
     },
     "metadata": {
      "needs_background": "light"
     },
     "output_type": "display_data"
    }
   ],
   "source": [
    "flat_list = [item for sublist in lol_MCF7_back_diseased for item in sublist]\n",
    "plt.hist(flat_list)\n",
    "plt.xlabel('Expression Values')\n",
    "plt.ylabel('Gene Count')\n",
    "plt.show()"
   ]
  },
  {
   "cell_type": "markdown",
   "id": "51dc4a2e",
   "metadata": {},
   "source": [
    "### MCF7-Healthy"
   ]
  },
  {
   "cell_type": "code",
   "execution_count": 14,
   "id": "2600faac",
   "metadata": {},
   "outputs": [
    {
     "data": {
      "image/png": "[encoded data removed]",
      "text/plain": [
       "<Figure size 432x288 with 1 Axes>"
      ]
     },
     "metadata": {
      "needs_background": "light"
     },
     "output_type": "display_data"
    }
   ],
   "source": [
    "flat_list = [item for sublist in lol_MCF7_forward_healthy for item in sublist]\n",
    "plt.hist(flat_list)\n",
    "plt.xlabel('Expression Values')\n",
    "plt.ylabel('Sample count')\n",
    "plt.show()"
   ]
  },
  {
   "cell_type": "markdown",
   "id": "8371a1de",
   "metadata": {},
   "source": [
    "### A549 - Treated"
   ]
  },
  {
   "cell_type": "code",
   "execution_count": 20,
   "id": "a7faa1b4",
   "metadata": {},
   "outputs": [
    {
     "data": {
      "image/png": "[encoded data removed]",
      "text/plain": [
       "<Figure size 432x288 with 1 Axes>"
      ]
     },
     "metadata": {
      "needs_background": "light"
     },
     "output_type": "display_data"
    }
   ],
   "source": [
    "flat_list = [item for sublist in lol_A549_back_treated for item in sublist]\n",
    "plt.hist(flat_list)\n",
    "plt.xlabel('Expression Values')\n",
    "plt.ylabel('Gene Count')\n",
    "plt.show()"
   ]
  },
  {
   "cell_type": "markdown",
   "id": "5c85b424",
   "metadata": {},
   "source": [
    "### A549 - Diseased"
   ]
  },
  {
   "cell_type": "code",
   "execution_count": 7,
   "id": "c79227b3",
   "metadata": {},
   "outputs": [
    {
     "data": {
      "image/png": "[encoded data removed]",
      "text/plain": [
       "<Figure size 432x288 with 1 Axes>"
      ]
     },
     "metadata": {
      "needs_background": "light"
     },
     "output_type": "display_data"
    }
   ],
   "source": [
    "flat_list = [item for sublist in lol_A549_back_diseased for item in sublist]\n",
    "plt.hist(flat_list)\n",
    "plt.xlabel('Expression Values')\n",
    "plt.ylabel('Gene Count')\n",
    "plt.show()"
   ]
  },
  {
   "cell_type": "markdown",
   "id": "64f40975",
   "metadata": {},
   "source": [
    "### A549 - Healthy"
   ]
  },
  {
   "cell_type": "code",
   "execution_count": 11,
   "id": "26373826",
   "metadata": {},
   "outputs": [
    {
     "data": {
      "image/png": "[encoded data removed]",
      "text/plain": [
       "<Figure size 432x288 with 1 Axes>"
      ]
     },
     "metadata": {
      "needs_background": "light"
     },
     "output_type": "display_data"
    }
   ],
   "source": [
    "flat_list = [item for sublist in lol_A549_forward_healthy for item in sublist]\n",
    "plt.hist(flat_list)\n",
    "plt.xlabel('Expression Values')\n",
    "plt.ylabel('Gene Count')\n",
    "plt.show()"
   ]
  },
  {
   "cell_type": "code",
   "execution_count": null,
   "id": "171a2472",
   "metadata": {},
   "outputs": [],
   "source": []
  }
 ],
 "metadata": {
  "kernelspec": {
   "display_name": "Python 3",
   "language": "python",
   "name": "python3"
  },
  "language_info": {
   "codemirror_mode": {
    "name": "ipython",
    "version": 3
   },
   "file_extension": ".py",
   "mimetype": "text/x-python",
   "name": "python",
   "nbconvert_exporter": "python",
   "pygments_lexer": "ipython3",
   "version": "3.8.13"
  }
 },
 "nbformat": 4,
 "nbformat_minor": 5
}
